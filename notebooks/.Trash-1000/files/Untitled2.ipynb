{
 "cells": [
  {
   "cell_type": "code",
   "execution_count": 1,
   "id": "tired-jacob",
   "metadata": {},
   "outputs": [],
   "source": [
    "import pyamg"
   ]
  },
  {
   "cell_type": "code",
   "execution_count": 2,
   "id": "passive-character",
   "metadata": {},
   "outputs": [
    {
     "data": {
      "text/plain": [
       "<function pyamg.blackbox.solve(A, b, x0=None, tol=1e-05, maxiter=400, return_solver=False, existing_solver=None, verb=True, residuals=None)>"
      ]
     },
     "execution_count": 2,
     "metadata": {},
     "output_type": "execute_result"
    }
   ],
   "source": [
    "pyamg.solve"
   ]
  },
  {
   "cell_type": "code",
   "execution_count": null,
   "id": "similar-dublin",
   "metadata": {},
   "outputs": [],
   "source": []
  }
 ],
 "metadata": {
  "kernelspec": {
   "display_name": "Python 3",
   "language": "python",
   "name": "python3"
  },
  "language_info": {
   "codemirror_mode": {
    "name": "ipython",
    "version": 3
   },
   "file_extension": ".py",
   "mimetype": "text/x-python",
   "name": "python",
   "nbconvert_exporter": "python",
   "pygments_lexer": "ipython3",
   "version": "3.7.9"
  }
 },
 "nbformat": 4,
 "nbformat_minor": 5
}
